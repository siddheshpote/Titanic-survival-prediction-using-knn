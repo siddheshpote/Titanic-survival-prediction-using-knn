{
 "cells": [
  {
   "cell_type": "code",
   "execution_count": 18,
   "metadata": {},
   "outputs": [],
   "source": [
    "## importing the libraries and data requires\n",
    "import pandas as pd\n",
    "import numpy as np"
   ]
  },
  {
   "cell_type": "code",
   "execution_count": 50,
   "metadata": {},
   "outputs": [],
   "source": [
    "# import the data\n",
    "train  = pd.read_csv(\"train.csv\")\n",
    "test = pd.read_csv(\"test.csv\")\n",
    "passID = test.PassengerId"
   ]
  },
  {
   "cell_type": "code",
   "execution_count": 51,
   "metadata": {},
   "outputs": [],
   "source": [
    "# we will combine both the dataset for feature engineering\n",
    "data = pd.concat(objs=[train, test], axis=0).reset_index(drop=True)"
   ]
  },
  {
   "cell_type": "code",
   "execution_count": 52,
   "metadata": {},
   "outputs": [
    {
     "data": {
      "text/plain": [
       "PassengerId       0\n",
       "Survived        418\n",
       "Pclass            0\n",
       "Name              0\n",
       "Sex               0\n",
       "Age             263\n",
       "SibSp             0\n",
       "Parch             0\n",
       "Ticket            0\n",
       "Fare              1\n",
       "Cabin          1014\n",
       "Embarked          2\n",
       "dtype: int64"
      ]
     },
     "execution_count": 52,
     "metadata": {},
     "output_type": "execute_result"
    }
   ],
   "source": [
    "# checking for the null values\n",
    "data.isnull().sum()"
   ]
  },
  {
   "cell_type": "code",
   "execution_count": 53,
   "metadata": {},
   "outputs": [
    {
     "data": {
      "text/html": [
       "<div>\n",
       "<style scoped>\n",
       "    .dataframe tbody tr th:only-of-type {\n",
       "        vertical-align: middle;\n",
       "    }\n",
       "\n",
       "    .dataframe tbody tr th {\n",
       "        vertical-align: top;\n",
       "    }\n",
       "\n",
       "    .dataframe thead th {\n",
       "        text-align: right;\n",
       "    }\n",
       "</style>\n",
       "<table border=\"1\" class=\"dataframe\">\n",
       "  <thead>\n",
       "    <tr style=\"text-align: right;\">\n",
       "      <th></th>\n",
       "      <th>PassengerId</th>\n",
       "      <th>Survived</th>\n",
       "      <th>Pclass</th>\n",
       "      <th>Name</th>\n",
       "      <th>Sex</th>\n",
       "      <th>Age</th>\n",
       "      <th>SibSp</th>\n",
       "      <th>Parch</th>\n",
       "      <th>Ticket</th>\n",
       "      <th>Fare</th>\n",
       "      <th>Cabin</th>\n",
       "      <th>Embarked</th>\n",
       "    </tr>\n",
       "  </thead>\n",
       "  <tbody>\n",
       "    <tr>\n",
       "      <th>0</th>\n",
       "      <td>1</td>\n",
       "      <td>0.00</td>\n",
       "      <td>3</td>\n",
       "      <td>Braund, Mr. Owen Harris</td>\n",
       "      <td>male</td>\n",
       "      <td>22.00</td>\n",
       "      <td>1</td>\n",
       "      <td>0</td>\n",
       "      <td>A/5 21171</td>\n",
       "      <td>7.25</td>\n",
       "      <td>NaN</td>\n",
       "      <td>S</td>\n",
       "    </tr>\n",
       "    <tr>\n",
       "      <th>1</th>\n",
       "      <td>2</td>\n",
       "      <td>1.00</td>\n",
       "      <td>1</td>\n",
       "      <td>Cumings, Mrs. John Bradley (Florence Briggs Th...</td>\n",
       "      <td>female</td>\n",
       "      <td>38.00</td>\n",
       "      <td>1</td>\n",
       "      <td>0</td>\n",
       "      <td>PC 17599</td>\n",
       "      <td>71.28</td>\n",
       "      <td>C85</td>\n",
       "      <td>C</td>\n",
       "    </tr>\n",
       "    <tr>\n",
       "      <th>2</th>\n",
       "      <td>3</td>\n",
       "      <td>1.00</td>\n",
       "      <td>3</td>\n",
       "      <td>Heikkinen, Miss. Laina</td>\n",
       "      <td>female</td>\n",
       "      <td>26.00</td>\n",
       "      <td>0</td>\n",
       "      <td>0</td>\n",
       "      <td>STON/O2. 3101282</td>\n",
       "      <td>7.92</td>\n",
       "      <td>NaN</td>\n",
       "      <td>S</td>\n",
       "    </tr>\n",
       "    <tr>\n",
       "      <th>3</th>\n",
       "      <td>4</td>\n",
       "      <td>1.00</td>\n",
       "      <td>1</td>\n",
       "      <td>Futrelle, Mrs. Jacques Heath (Lily May Peel)</td>\n",
       "      <td>female</td>\n",
       "      <td>35.00</td>\n",
       "      <td>1</td>\n",
       "      <td>0</td>\n",
       "      <td>113803</td>\n",
       "      <td>53.10</td>\n",
       "      <td>C123</td>\n",
       "      <td>S</td>\n",
       "    </tr>\n",
       "    <tr>\n",
       "      <th>4</th>\n",
       "      <td>5</td>\n",
       "      <td>0.00</td>\n",
       "      <td>3</td>\n",
       "      <td>Allen, Mr. William Henry</td>\n",
       "      <td>male</td>\n",
       "      <td>35.00</td>\n",
       "      <td>0</td>\n",
       "      <td>0</td>\n",
       "      <td>373450</td>\n",
       "      <td>8.05</td>\n",
       "      <td>NaN</td>\n",
       "      <td>S</td>\n",
       "    </tr>\n",
       "  </tbody>\n",
       "</table>\n",
       "</div>"
      ],
      "text/plain": [
       "   PassengerId  Survived  Pclass  \\\n",
       "0            1      0.00       3   \n",
       "1            2      1.00       1   \n",
       "2            3      1.00       3   \n",
       "3            4      1.00       1   \n",
       "4            5      0.00       3   \n",
       "\n",
       "                                                Name     Sex   Age  SibSp  \\\n",
       "0                            Braund, Mr. Owen Harris    male 22.00      1   \n",
       "1  Cumings, Mrs. John Bradley (Florence Briggs Th...  female 38.00      1   \n",
       "2                             Heikkinen, Miss. Laina  female 26.00      0   \n",
       "3       Futrelle, Mrs. Jacques Heath (Lily May Peel)  female 35.00      1   \n",
       "4                           Allen, Mr. William Henry    male 35.00      0   \n",
       "\n",
       "   Parch            Ticket  Fare Cabin Embarked  \n",
       "0      0         A/5 21171  7.25   NaN        S  \n",
       "1      0          PC 17599 71.28   C85        C  \n",
       "2      0  STON/O2. 3101282  7.92   NaN        S  \n",
       "3      0            113803 53.10  C123        S  \n",
       "4      0            373450  8.05   NaN        S  "
      ]
     },
     "execution_count": 53,
     "metadata": {},
     "output_type": "execute_result"
    }
   ],
   "source": [
    "# having a look at the data\n",
    "data.head()"
   ]
  },
  {
   "cell_type": "code",
   "execution_count": 54,
   "metadata": {},
   "outputs": [
    {
     "name": "stdout",
     "output_type": "stream",
     "text": [
      "The highest appearing embarked post in the dataset is \n",
      " 0    S\n",
      "dtype: object\n"
     ]
    }
   ],
   "source": [
    "# embarked has two missing values hence filling them with the highest frequency of embarked port\n",
    "print(\"The highest appearing embarked post in the dataset is \\n\", train[\"Embarked\"].mode())\n",
    "data[\"Embarked\"] = data[\"Embarked\"].fillna(\"S\")"
   ]
  },
  {
   "cell_type": "code",
   "execution_count": 55,
   "metadata": {},
   "outputs": [
    {
     "data": {
      "text/plain": [
       "Survived  Pclass\n",
       "0.00      1        45.25\n",
       "          2        30.50\n",
       "          3        25.00\n",
       "1.00      1        35.00\n",
       "          2        28.00\n",
       "          3        22.00\n",
       "Name: Age, dtype: float64"
      ]
     },
     "execution_count": 55,
     "metadata": {},
     "output_type": "execute_result"
    }
   ],
   "source": [
    "data.groupby([\"Survived\", \"Pclass\"])[\"Age\"].agg(\"median\")"
   ]
  },
  {
   "cell_type": "code",
   "execution_count": 56,
   "metadata": {},
   "outputs": [
    {
     "data": {
      "text/plain": [
       "Pclass\n",
       "1   39.00\n",
       "2   29.00\n",
       "3   24.00\n",
       "Name: Age, dtype: float64"
      ]
     },
     "execution_count": 56,
     "metadata": {},
     "output_type": "execute_result"
    }
   ],
   "source": [
    "# to fill the null values present in the age\n",
    "# since from above we can see that pclass 1 has people who are age higher than the other classes, it would be wise to fill ages\n",
    "# according to Pclass\n",
    "median_ages = data.groupby([\"Pclass\"])[\"Age\"].median().round(0);median_ages"
   ]
  },
  {
   "cell_type": "code",
   "execution_count": 57,
   "metadata": {},
   "outputs": [],
   "source": [
    "# creating a function to impute the age missing values \n",
    "def imputeAge(cols):\n",
    "    Age = cols[0]\n",
    "    Pclass = cols[1]\n",
    "    if pd.isnull(Age):\n",
    "        if Pclass == 1:\n",
    "            return median_ages[1]\n",
    "        elif Pclass == 2:\n",
    "            return median_ages[2]\n",
    "        else:\n",
    "            return median_ages[3]\n",
    "    else:\n",
    "        return Age\n",
    "data[\"Age\"] = data[[\"Age\", \"Pclass\"]].apply(imputeAge, axis =1)"
   ]
  },
  {
   "cell_type": "code",
   "execution_count": 58,
   "metadata": {},
   "outputs": [],
   "source": [
    "# creating a new column that comtain no of people from a family travelling on the ship and categoring if a passenger was travelling alone\n",
    "data['FamilySize'] = data['SibSp'] + data['Parch'] + 1\n",
    "data['IsAlone'] = 0\n",
    "data.loc[data['FamilySize'] == 1, 'IsAlone'] = 1"
   ]
  },
  {
   "cell_type": "code",
   "execution_count": 59,
   "metadata": {},
   "outputs": [],
   "source": [
    "# dropping PassengerId as it is different for all the passenegers and cabin and ticket as it contains a lot of missing values\n",
    "drop_elements = ['PassengerId', 'Ticket', 'Cabin']\n",
    "data.drop(drop_elements, inplace = True , axis = 1)\n"
   ]
  },
  {
   "cell_type": "code",
   "execution_count": 60,
   "metadata": {},
   "outputs": [],
   "source": [
    "# extracting title from the name columns\n",
    "data[\"Title\"] = data[\"Name\"].str.split(\", \", expand = True)[1].str.split(\".\", expand = True)[0]"
   ]
  },
  {
   "cell_type": "code",
   "execution_count": 61,
   "metadata": {},
   "outputs": [],
   "source": [
    "# categorizing fare on basis of quantiles\n",
    "data[\"FareBin\"] = pd.qcut(data[\"Fare\"],4, labels = [0,1,2,3])     "
   ]
  },
  {
   "cell_type": "code",
   "execution_count": 62,
   "metadata": {},
   "outputs": [],
   "source": [
    "# categorizing age on basis on equal intervals\n",
    "data[\"AgeBin\"] = pd.cut(data[\"Age\"].astype(int),5, labels = [0,1,2,3,4])"
   ]
  },
  {
   "cell_type": "code",
   "execution_count": 63,
   "metadata": {},
   "outputs": [
    {
     "name": "stdout",
     "output_type": "stream",
     "text": [
      "Mr        757\n",
      "Miss      260\n",
      "Mrs       197\n",
      "Master     61\n",
      "Misc       34\n",
      "Name: Title, dtype: int64\n"
     ]
    }
   ],
   "source": [
    "# creating misc category if the count of the category is less than 10\n",
    "title_names = (data[\"Title\"].value_counts()<10) ## creating a true false series if the count of value of title is less than 10 and title name as index\n",
    "data[\"Title\"] = data[\"Title\"].apply(lambda x: \"Misc\" if title_names.loc[x] == True else x)\n",
    "print(data[\"Title\"].value_counts())"
   ]
  },
  {
   "cell_type": "code",
   "execution_count": 64,
   "metadata": {},
   "outputs": [],
   "source": [
    "# converting objects into categories using label encoder from sklearn\n",
    "from sklearn.preprocessing import LabelEncoder\n",
    "label = LabelEncoder()\n",
    "data[\"Sex_code\"] = label.fit_transform(data[\"Sex\"])\n",
    "data[\"Embarked_code\"] = label.fit_transform(data[\"Embarked\"])\n",
    "data[\"Title_code\"] = label.fit_transform(data[\"Title\"])"
   ]
  },
  {
   "cell_type": "code",
   "execution_count": 65,
   "metadata": {},
   "outputs": [
    {
     "data": {
      "text/html": [
       "<div>\n",
       "<style scoped>\n",
       "    .dataframe tbody tr th:only-of-type {\n",
       "        vertical-align: middle;\n",
       "    }\n",
       "\n",
       "    .dataframe tbody tr th {\n",
       "        vertical-align: top;\n",
       "    }\n",
       "\n",
       "    .dataframe thead th {\n",
       "        text-align: right;\n",
       "    }\n",
       "</style>\n",
       "<table border=\"1\" class=\"dataframe\">\n",
       "  <thead>\n",
       "    <tr style=\"text-align: right;\">\n",
       "      <th></th>\n",
       "      <th>Survived</th>\n",
       "      <th>Pclass</th>\n",
       "      <th>Name</th>\n",
       "      <th>Sex</th>\n",
       "      <th>Age</th>\n",
       "      <th>SibSp</th>\n",
       "      <th>Parch</th>\n",
       "      <th>Fare</th>\n",
       "      <th>Embarked</th>\n",
       "      <th>FamilySize</th>\n",
       "      <th>IsAlone</th>\n",
       "      <th>Title</th>\n",
       "      <th>FareBin</th>\n",
       "      <th>AgeBin</th>\n",
       "      <th>Sex_code</th>\n",
       "      <th>Embarked_code</th>\n",
       "      <th>Title_code</th>\n",
       "    </tr>\n",
       "  </thead>\n",
       "  <tbody>\n",
       "    <tr>\n",
       "      <th>0</th>\n",
       "      <td>0.00</td>\n",
       "      <td>3</td>\n",
       "      <td>Braund, Mr. Owen Harris</td>\n",
       "      <td>male</td>\n",
       "      <td>22.00</td>\n",
       "      <td>1</td>\n",
       "      <td>0</td>\n",
       "      <td>7.25</td>\n",
       "      <td>S</td>\n",
       "      <td>2</td>\n",
       "      <td>0</td>\n",
       "      <td>Mr</td>\n",
       "      <td>0</td>\n",
       "      <td>1</td>\n",
       "      <td>1</td>\n",
       "      <td>2</td>\n",
       "      <td>3</td>\n",
       "    </tr>\n",
       "    <tr>\n",
       "      <th>1</th>\n",
       "      <td>1.00</td>\n",
       "      <td>1</td>\n",
       "      <td>Cumings, Mrs. John Bradley (Florence Briggs Th...</td>\n",
       "      <td>female</td>\n",
       "      <td>38.00</td>\n",
       "      <td>1</td>\n",
       "      <td>0</td>\n",
       "      <td>71.28</td>\n",
       "      <td>C</td>\n",
       "      <td>2</td>\n",
       "      <td>0</td>\n",
       "      <td>Mrs</td>\n",
       "      <td>3</td>\n",
       "      <td>2</td>\n",
       "      <td>0</td>\n",
       "      <td>0</td>\n",
       "      <td>4</td>\n",
       "    </tr>\n",
       "    <tr>\n",
       "      <th>2</th>\n",
       "      <td>1.00</td>\n",
       "      <td>3</td>\n",
       "      <td>Heikkinen, Miss. Laina</td>\n",
       "      <td>female</td>\n",
       "      <td>26.00</td>\n",
       "      <td>0</td>\n",
       "      <td>0</td>\n",
       "      <td>7.92</td>\n",
       "      <td>S</td>\n",
       "      <td>1</td>\n",
       "      <td>1</td>\n",
       "      <td>Miss</td>\n",
       "      <td>1</td>\n",
       "      <td>1</td>\n",
       "      <td>0</td>\n",
       "      <td>2</td>\n",
       "      <td>2</td>\n",
       "    </tr>\n",
       "    <tr>\n",
       "      <th>3</th>\n",
       "      <td>1.00</td>\n",
       "      <td>1</td>\n",
       "      <td>Futrelle, Mrs. Jacques Heath (Lily May Peel)</td>\n",
       "      <td>female</td>\n",
       "      <td>35.00</td>\n",
       "      <td>1</td>\n",
       "      <td>0</td>\n",
       "      <td>53.10</td>\n",
       "      <td>S</td>\n",
       "      <td>2</td>\n",
       "      <td>0</td>\n",
       "      <td>Mrs</td>\n",
       "      <td>3</td>\n",
       "      <td>2</td>\n",
       "      <td>0</td>\n",
       "      <td>2</td>\n",
       "      <td>4</td>\n",
       "    </tr>\n",
       "    <tr>\n",
       "      <th>4</th>\n",
       "      <td>0.00</td>\n",
       "      <td>3</td>\n",
       "      <td>Allen, Mr. William Henry</td>\n",
       "      <td>male</td>\n",
       "      <td>35.00</td>\n",
       "      <td>0</td>\n",
       "      <td>0</td>\n",
       "      <td>8.05</td>\n",
       "      <td>S</td>\n",
       "      <td>1</td>\n",
       "      <td>1</td>\n",
       "      <td>Mr</td>\n",
       "      <td>1</td>\n",
       "      <td>2</td>\n",
       "      <td>1</td>\n",
       "      <td>2</td>\n",
       "      <td>3</td>\n",
       "    </tr>\n",
       "  </tbody>\n",
       "</table>\n",
       "</div>"
      ],
      "text/plain": [
       "   Survived  Pclass                                               Name  \\\n",
       "0      0.00       3                            Braund, Mr. Owen Harris   \n",
       "1      1.00       1  Cumings, Mrs. John Bradley (Florence Briggs Th...   \n",
       "2      1.00       3                             Heikkinen, Miss. Laina   \n",
       "3      1.00       1       Futrelle, Mrs. Jacques Heath (Lily May Peel)   \n",
       "4      0.00       3                           Allen, Mr. William Henry   \n",
       "\n",
       "      Sex   Age  SibSp  Parch  Fare Embarked  FamilySize  IsAlone Title  \\\n",
       "0    male 22.00      1      0  7.25        S           2        0    Mr   \n",
       "1  female 38.00      1      0 71.28        C           2        0   Mrs   \n",
       "2  female 26.00      0      0  7.92        S           1        1  Miss   \n",
       "3  female 35.00      1      0 53.10        S           2        0   Mrs   \n",
       "4    male 35.00      0      0  8.05        S           1        1    Mr   \n",
       "\n",
       "  FareBin AgeBin  Sex_code  Embarked_code  Title_code  \n",
       "0       0      1         1              2           3  \n",
       "1       3      2         0              0           4  \n",
       "2       1      1         0              2           2  \n",
       "3       3      2         0              2           4  \n",
       "4       1      2         1              2           3  "
      ]
     },
     "execution_count": 65,
     "metadata": {},
     "output_type": "execute_result"
    }
   ],
   "source": [
    "data.head()"
   ]
  },
  {
   "cell_type": "code",
   "execution_count": 66,
   "metadata": {},
   "outputs": [],
   "source": [
    "data= pd.get_dummies(data,columns=[\"Sex_code\", \"AgeBin\",\"Embarked_code\" ,\"FareBin\", \"IsAlone\", \"Title_code\"])"
   ]
  },
  {
   "cell_type": "code",
   "execution_count": 67,
   "metadata": {},
   "outputs": [
    {
     "data": {
      "text/html": [
       "<div>\n",
       "<style scoped>\n",
       "    .dataframe tbody tr th:only-of-type {\n",
       "        vertical-align: middle;\n",
       "    }\n",
       "\n",
       "    .dataframe tbody tr th {\n",
       "        vertical-align: top;\n",
       "    }\n",
       "\n",
       "    .dataframe thead th {\n",
       "        text-align: right;\n",
       "    }\n",
       "</style>\n",
       "<table border=\"1\" class=\"dataframe\">\n",
       "  <thead>\n",
       "    <tr style=\"text-align: right;\">\n",
       "      <th></th>\n",
       "      <th>Survived</th>\n",
       "      <th>Pclass</th>\n",
       "      <th>Name</th>\n",
       "      <th>Sex</th>\n",
       "      <th>Age</th>\n",
       "      <th>SibSp</th>\n",
       "      <th>Parch</th>\n",
       "      <th>Fare</th>\n",
       "      <th>Embarked</th>\n",
       "      <th>FamilySize</th>\n",
       "      <th>...</th>\n",
       "      <th>FareBin_1</th>\n",
       "      <th>FareBin_2</th>\n",
       "      <th>FareBin_3</th>\n",
       "      <th>IsAlone_0</th>\n",
       "      <th>IsAlone_1</th>\n",
       "      <th>Title_code_0</th>\n",
       "      <th>Title_code_1</th>\n",
       "      <th>Title_code_2</th>\n",
       "      <th>Title_code_3</th>\n",
       "      <th>Title_code_4</th>\n",
       "    </tr>\n",
       "  </thead>\n",
       "  <tbody>\n",
       "    <tr>\n",
       "      <th>0</th>\n",
       "      <td>0.00</td>\n",
       "      <td>3</td>\n",
       "      <td>Braund, Mr. Owen Harris</td>\n",
       "      <td>male</td>\n",
       "      <td>22.00</td>\n",
       "      <td>1</td>\n",
       "      <td>0</td>\n",
       "      <td>7.25</td>\n",
       "      <td>S</td>\n",
       "      <td>2</td>\n",
       "      <td>...</td>\n",
       "      <td>0</td>\n",
       "      <td>0</td>\n",
       "      <td>0</td>\n",
       "      <td>1</td>\n",
       "      <td>0</td>\n",
       "      <td>0</td>\n",
       "      <td>0</td>\n",
       "      <td>0</td>\n",
       "      <td>1</td>\n",
       "      <td>0</td>\n",
       "    </tr>\n",
       "    <tr>\n",
       "      <th>1</th>\n",
       "      <td>1.00</td>\n",
       "      <td>1</td>\n",
       "      <td>Cumings, Mrs. John Bradley (Florence Briggs Th...</td>\n",
       "      <td>female</td>\n",
       "      <td>38.00</td>\n",
       "      <td>1</td>\n",
       "      <td>0</td>\n",
       "      <td>71.28</td>\n",
       "      <td>C</td>\n",
       "      <td>2</td>\n",
       "      <td>...</td>\n",
       "      <td>0</td>\n",
       "      <td>0</td>\n",
       "      <td>1</td>\n",
       "      <td>1</td>\n",
       "      <td>0</td>\n",
       "      <td>0</td>\n",
       "      <td>0</td>\n",
       "      <td>0</td>\n",
       "      <td>0</td>\n",
       "      <td>1</td>\n",
       "    </tr>\n",
       "    <tr>\n",
       "      <th>2</th>\n",
       "      <td>1.00</td>\n",
       "      <td>3</td>\n",
       "      <td>Heikkinen, Miss. Laina</td>\n",
       "      <td>female</td>\n",
       "      <td>26.00</td>\n",
       "      <td>0</td>\n",
       "      <td>0</td>\n",
       "      <td>7.92</td>\n",
       "      <td>S</td>\n",
       "      <td>1</td>\n",
       "      <td>...</td>\n",
       "      <td>1</td>\n",
       "      <td>0</td>\n",
       "      <td>0</td>\n",
       "      <td>0</td>\n",
       "      <td>1</td>\n",
       "      <td>0</td>\n",
       "      <td>0</td>\n",
       "      <td>1</td>\n",
       "      <td>0</td>\n",
       "      <td>0</td>\n",
       "    </tr>\n",
       "    <tr>\n",
       "      <th>3</th>\n",
       "      <td>1.00</td>\n",
       "      <td>1</td>\n",
       "      <td>Futrelle, Mrs. Jacques Heath (Lily May Peel)</td>\n",
       "      <td>female</td>\n",
       "      <td>35.00</td>\n",
       "      <td>1</td>\n",
       "      <td>0</td>\n",
       "      <td>53.10</td>\n",
       "      <td>S</td>\n",
       "      <td>2</td>\n",
       "      <td>...</td>\n",
       "      <td>0</td>\n",
       "      <td>0</td>\n",
       "      <td>1</td>\n",
       "      <td>1</td>\n",
       "      <td>0</td>\n",
       "      <td>0</td>\n",
       "      <td>0</td>\n",
       "      <td>0</td>\n",
       "      <td>0</td>\n",
       "      <td>1</td>\n",
       "    </tr>\n",
       "    <tr>\n",
       "      <th>4</th>\n",
       "      <td>0.00</td>\n",
       "      <td>3</td>\n",
       "      <td>Allen, Mr. William Henry</td>\n",
       "      <td>male</td>\n",
       "      <td>35.00</td>\n",
       "      <td>0</td>\n",
       "      <td>0</td>\n",
       "      <td>8.05</td>\n",
       "      <td>S</td>\n",
       "      <td>1</td>\n",
       "      <td>...</td>\n",
       "      <td>1</td>\n",
       "      <td>0</td>\n",
       "      <td>0</td>\n",
       "      <td>0</td>\n",
       "      <td>1</td>\n",
       "      <td>0</td>\n",
       "      <td>0</td>\n",
       "      <td>0</td>\n",
       "      <td>1</td>\n",
       "      <td>0</td>\n",
       "    </tr>\n",
       "  </tbody>\n",
       "</table>\n",
       "<p>5 rows × 32 columns</p>\n",
       "</div>"
      ],
      "text/plain": [
       "   Survived  Pclass                                               Name  \\\n",
       "0      0.00       3                            Braund, Mr. Owen Harris   \n",
       "1      1.00       1  Cumings, Mrs. John Bradley (Florence Briggs Th...   \n",
       "2      1.00       3                             Heikkinen, Miss. Laina   \n",
       "3      1.00       1       Futrelle, Mrs. Jacques Heath (Lily May Peel)   \n",
       "4      0.00       3                           Allen, Mr. William Henry   \n",
       "\n",
       "      Sex   Age  SibSp  Parch  Fare Embarked  FamilySize  ... FareBin_1  \\\n",
       "0    male 22.00      1      0  7.25        S           2  ...         0   \n",
       "1  female 38.00      1      0 71.28        C           2  ...         0   \n",
       "2  female 26.00      0      0  7.92        S           1  ...         1   \n",
       "3  female 35.00      1      0 53.10        S           2  ...         0   \n",
       "4    male 35.00      0      0  8.05        S           1  ...         1   \n",
       "\n",
       "   FareBin_2  FareBin_3  IsAlone_0  IsAlone_1  Title_code_0  Title_code_1  \\\n",
       "0          0          0          1          0             0             0   \n",
       "1          0          1          1          0             0             0   \n",
       "2          0          0          0          1             0             0   \n",
       "3          0          1          1          0             0             0   \n",
       "4          0          0          0          1             0             0   \n",
       "\n",
       "   Title_code_2  Title_code_3  Title_code_4  \n",
       "0             0             1             0  \n",
       "1             0             0             1  \n",
       "2             1             0             0  \n",
       "3             0             0             1  \n",
       "4             0             1             0  \n",
       "\n",
       "[5 rows x 32 columns]"
      ]
     },
     "execution_count": 67,
     "metadata": {},
     "output_type": "execute_result"
    }
   ],
   "source": [
    "data.head()"
   ]
  },
  {
   "cell_type": "code",
   "execution_count": 68,
   "metadata": {},
   "outputs": [],
   "source": [
    "# dropping values that are no longer needed because they are categorized\n",
    "data.drop(['Name', 'Sex', 'Age' ,'Fare', 'Embarked',\n",
    "       'FamilySize', 'Title'], axis = 1, inplace = True)"
   ]
  },
  {
   "cell_type": "code",
   "execution_count": 69,
   "metadata": {},
   "outputs": [],
   "source": [
    "train= data.iloc[:891,]\n",
    "test = data.iloc[891:, ]"
   ]
  },
  {
   "cell_type": "code",
   "execution_count": 70,
   "metadata": {},
   "outputs": [
    {
     "data": {
      "application/javascript": [
       "\n",
       "        if (window._pyforest_update_imports_cell) { window._pyforest_update_imports_cell('from sklearn.model_selection import train_test_split\\nimport pandas as pd'); }\n",
       "    "
      ],
      "text/plain": [
       "<IPython.core.display.Javascript object>"
      ]
     },
     "metadata": {},
     "output_type": "display_data"
    }
   ],
   "source": [
    "xtrain, xtest, ytrain, ytest = train_test_split(train.drop(\"Survived\",axis = 1), train.Survived.astype(\"int\"), random_state = 0)\n",
    "\n",
    "#xtrain, ytrain = train.drop(\"Survived\", axis = 1), train.Survived.astype(\"int\")\n",
    "#xtest = test.drop(\"Survived\", axis = 1)"
   ]
  },
  {
   "cell_type": "code",
   "execution_count": 71,
   "metadata": {},
   "outputs": [],
   "source": [
    "import lazypredict\n",
    "from lazypredict.Supervised import LazyClassifier"
   ]
  },
  {
   "cell_type": "code",
   "execution_count": 72,
   "metadata": {},
   "outputs": [],
   "source": [
    "# using lazy prdict to compare accuracy of all the models\n",
    "clf = LazyClassifier(verbose = 0 , ignore_warnings=True)\n"
   ]
  },
  {
   "cell_type": "code",
   "execution_count": 73,
   "metadata": {
    "scrolled": false
   },
   "outputs": [
    {
     "name": "stderr",
     "output_type": "stream",
     "text": [
      "100%|██████████████████████████████████████████████████████████████████████████████████| 29/29 [00:02<00:00, 13.50it/s]\n"
     ]
    },
    {
     "data": {
      "text/plain": [
       "(                               Accuracy  Balanced Accuracy  ROC AUC  F1 Score  \\\n",
       " Model                                                                           \n",
       " KNeighborsClassifier               0.84               0.83     0.83      0.84   \n",
       " BaggingClassifier                  0.84               0.83     0.83      0.84   \n",
       " SGDClassifier                      0.82               0.82     0.82      0.82   \n",
       " XGBClassifier                      0.83               0.82     0.82      0.83   \n",
       " LogisticRegression                 0.82               0.82     0.82      0.82   \n",
       " DecisionTreeClassifier             0.83               0.82     0.82      0.83   \n",
       " ExtraTreesClassifier               0.83               0.81     0.81      0.83   \n",
       " RandomForestClassifier             0.83               0.81     0.81      0.82   \n",
       " LabelSpreading                     0.82               0.81     0.81      0.82   \n",
       " LinearSVC                          0.82               0.81     0.81      0.82   \n",
       " CalibratedClassifierCV             0.82               0.81     0.81      0.82   \n",
       " LGBMClassifier                     0.83               0.81     0.81      0.82   \n",
       " LabelPropagation                   0.81               0.81     0.81      0.81   \n",
       " AdaBoostClassifier                 0.81               0.81     0.81      0.81   \n",
       " NuSVC                              0.81               0.80     0.80      0.81   \n",
       " LinearDiscriminantAnalysis         0.82               0.80     0.80      0.82   \n",
       " RidgeClassifier                    0.82               0.80     0.80      0.82   \n",
       " SVC                                0.81               0.80     0.80      0.81   \n",
       " ExtraTreeClassifier                0.82               0.80     0.80      0.82   \n",
       " RidgeClassifierCV                  0.81               0.80     0.80      0.81   \n",
       " NearestCentroid                    0.78               0.79     0.79      0.79   \n",
       " BernoulliNB                        0.78               0.78     0.78      0.78   \n",
       " GaussianNB                         0.76               0.77     0.77      0.77   \n",
       " Perceptron                         0.69               0.66     0.66      0.69   \n",
       " DummyClassifier                    0.61               0.59     0.59      0.61   \n",
       " QuadraticDiscriminantAnalysis      0.65               0.53     0.53      0.53   \n",
       " PassiveAggressiveClassifier        0.53               0.53     0.53      0.54   \n",
       " \n",
       "                                Time Taken  \n",
       " Model                                      \n",
       " KNeighborsClassifier                 0.05  \n",
       " BaggingClassifier                    0.07  \n",
       " SGDClassifier                        0.03  \n",
       " XGBClassifier                        0.13  \n",
       " LogisticRegression                   0.05  \n",
       " DecisionTreeClassifier               0.02  \n",
       " ExtraTreesClassifier                 0.23  \n",
       " RandomForestClassifier               0.27  \n",
       " LabelSpreading                       0.10  \n",
       " LinearSVC                            0.12  \n",
       " CalibratedClassifierCV               0.25  \n",
       " LGBMClassifier                       0.08  \n",
       " LabelPropagation                     0.08  \n",
       " AdaBoostClassifier                   0.20  \n",
       " NuSVC                                0.04  \n",
       " LinearDiscriminantAnalysis           0.05  \n",
       " RidgeClassifier                      0.04  \n",
       " SVC                                  0.05  \n",
       " ExtraTreeClassifier                  0.01  \n",
       " RidgeClassifierCV                    0.03  \n",
       " NearestCentroid                      0.04  \n",
       " BernoulliNB                          0.02  \n",
       " GaussianNB                           0.04  \n",
       " Perceptron                           0.03  \n",
       " DummyClassifier                      0.02  \n",
       " QuadraticDiscriminantAnalysis        0.02  \n",
       " PassiveAggressiveClassifier          0.03  ,\n",
       "                                Accuracy  Balanced Accuracy  ROC AUC  F1 Score  \\\n",
       " Model                                                                           \n",
       " KNeighborsClassifier               0.84               0.83     0.83      0.84   \n",
       " BaggingClassifier                  0.84               0.83     0.83      0.84   \n",
       " SGDClassifier                      0.82               0.82     0.82      0.82   \n",
       " XGBClassifier                      0.83               0.82     0.82      0.83   \n",
       " LogisticRegression                 0.82               0.82     0.82      0.82   \n",
       " DecisionTreeClassifier             0.83               0.82     0.82      0.83   \n",
       " ExtraTreesClassifier               0.83               0.81     0.81      0.83   \n",
       " RandomForestClassifier             0.83               0.81     0.81      0.82   \n",
       " LabelSpreading                     0.82               0.81     0.81      0.82   \n",
       " LinearSVC                          0.82               0.81     0.81      0.82   \n",
       " CalibratedClassifierCV             0.82               0.81     0.81      0.82   \n",
       " LGBMClassifier                     0.83               0.81     0.81      0.82   \n",
       " LabelPropagation                   0.81               0.81     0.81      0.81   \n",
       " AdaBoostClassifier                 0.81               0.81     0.81      0.81   \n",
       " NuSVC                              0.81               0.80     0.80      0.81   \n",
       " LinearDiscriminantAnalysis         0.82               0.80     0.80      0.82   \n",
       " RidgeClassifier                    0.82               0.80     0.80      0.82   \n",
       " SVC                                0.81               0.80     0.80      0.81   \n",
       " ExtraTreeClassifier                0.82               0.80     0.80      0.82   \n",
       " RidgeClassifierCV                  0.81               0.80     0.80      0.81   \n",
       " NearestCentroid                    0.78               0.79     0.79      0.79   \n",
       " BernoulliNB                        0.78               0.78     0.78      0.78   \n",
       " GaussianNB                         0.76               0.77     0.77      0.77   \n",
       " Perceptron                         0.69               0.66     0.66      0.69   \n",
       " DummyClassifier                    0.61               0.59     0.59      0.61   \n",
       " QuadraticDiscriminantAnalysis      0.65               0.53     0.53      0.53   \n",
       " PassiveAggressiveClassifier        0.53               0.53     0.53      0.54   \n",
       " \n",
       "                                Time Taken  \n",
       " Model                                      \n",
       " KNeighborsClassifier                 0.05  \n",
       " BaggingClassifier                    0.07  \n",
       " SGDClassifier                        0.03  \n",
       " XGBClassifier                        0.13  \n",
       " LogisticRegression                   0.05  \n",
       " DecisionTreeClassifier               0.02  \n",
       " ExtraTreesClassifier                 0.23  \n",
       " RandomForestClassifier               0.27  \n",
       " LabelSpreading                       0.10  \n",
       " LinearSVC                            0.12  \n",
       " CalibratedClassifierCV               0.25  \n",
       " LGBMClassifier                       0.08  \n",
       " LabelPropagation                     0.08  \n",
       " AdaBoostClassifier                   0.20  \n",
       " NuSVC                                0.04  \n",
       " LinearDiscriminantAnalysis           0.05  \n",
       " RidgeClassifier                      0.04  \n",
       " SVC                                  0.05  \n",
       " ExtraTreeClassifier                  0.01  \n",
       " RidgeClassifierCV                    0.03  \n",
       " NearestCentroid                      0.04  \n",
       " BernoulliNB                          0.02  \n",
       " GaussianNB                           0.04  \n",
       " Perceptron                           0.03  \n",
       " DummyClassifier                      0.02  \n",
       " QuadraticDiscriminantAnalysis        0.02  \n",
       " PassiveAggressiveClassifier          0.03  )"
      ]
     },
     "execution_count": 73,
     "metadata": {},
     "output_type": "execute_result"
    }
   ],
   "source": [
    "clf.fit(xtrain, xtest, ytrain, ytest)"
   ]
  },
  {
   "cell_type": "code",
   "execution_count": 74,
   "metadata": {},
   "outputs": [],
   "source": [
    "# using knn classifier as it gives the highest accuracy\n",
    "\n",
    "xtrain, ytrain = train.drop(\"Survived\", axis = 1), train.Survived.astype(\"int\")\n",
    "xtest = test.drop(\"Survived\", axis = 1)"
   ]
  },
  {
   "cell_type": "code",
   "execution_count": 75,
   "metadata": {},
   "outputs": [
    {
     "data": {
      "text/plain": [
       "0.8496071829405163"
      ]
     },
     "execution_count": 75,
     "metadata": {},
     "output_type": "execute_result"
    }
   ],
   "source": [
    "from sklearn.neighbors import KNeighborsClassifier\n",
    "knn = KNeighborsClassifier(n_neighbors = 9 , weights = \"uniform\", algorithm=\"ball_tree\", leaf_size=30, p=1)\n",
    "knn.fit(xtrain, ytrain)\n",
    "preds = knn.predict(xtest)\n",
    "knn.score(xtrain,ytrain)"
   ]
  },
  {
   "cell_type": "code",
   "execution_count": 76,
   "metadata": {},
   "outputs": [
    {
     "name": "stdout",
     "output_type": "stream",
     "text": [
      "Parameters currently in use:\n",
      "\n",
      "{'algorithm': 'ball_tree',\n",
      " 'leaf_size': 30,\n",
      " 'metric': 'minkowski',\n",
      " 'metric_params': None,\n",
      " 'n_jobs': None,\n",
      " 'n_neighbors': 9,\n",
      " 'p': 1,\n",
      " 'weights': 'uniform'}\n"
     ]
    }
   ],
   "source": [
    "from pprint import pprint\n",
    "# Look at parameters used by our current classifier\n",
    "print('Parameters currently in use:\\n')\n",
    "pprint(knn.get_params())"
   ]
  },
  {
   "cell_type": "code",
   "execution_count": null,
   "metadata": {},
   "outputs": [],
   "source": [
    "# performing hyperparameter tuning on knn to get some better accuracy"
   ]
  },
  {
   "cell_type": "code",
   "execution_count": 80,
   "metadata": {},
   "outputs": [
    {
     "name": "stdout",
     "output_type": "stream",
     "text": [
      "Fitting 10 folds for each of 3040 candidates, totalling 30400 fits\n"
     ]
    },
    {
     "name": "stderr",
     "output_type": "stream",
     "text": [
      "[Parallel(n_jobs=-1)]: Using backend LokyBackend with 8 concurrent workers.\n",
      "[Parallel(n_jobs=-1)]: Done  25 tasks      | elapsed:    5.0s\n",
      "[Parallel(n_jobs=-1)]: Done 384 tasks      | elapsed:    7.5s\n",
      "[Parallel(n_jobs=-1)]: Done 1196 tasks      | elapsed:   12.5s\n",
      "[Parallel(n_jobs=-1)]: Done 2328 tasks      | elapsed:   18.4s\n",
      "[Parallel(n_jobs=-1)]: Done 3788 tasks      | elapsed:   25.9s\n",
      "[Parallel(n_jobs=-1)]: Done 5568 tasks      | elapsed:   33.7s\n",
      "[Parallel(n_jobs=-1)]: Done 7676 tasks      | elapsed:   42.3s\n",
      "[Parallel(n_jobs=-1)]: Done 10104 tasks      | elapsed:   52.1s\n",
      "[Parallel(n_jobs=-1)]: Done 12860 tasks      | elapsed:  1.1min\n",
      "[Parallel(n_jobs=-1)]: Done 15936 tasks      | elapsed:  1.3min\n",
      "[Parallel(n_jobs=-1)]: Done 19340 tasks      | elapsed:  1.5min\n",
      "[Parallel(n_jobs=-1)]: Done 23064 tasks      | elapsed:  1.8min\n",
      "[Parallel(n_jobs=-1)]: Done 27116 tasks      | elapsed:  2.0min\n",
      "[Parallel(n_jobs=-1)]: Done 30385 out of 30400 | elapsed:  2.3min remaining:    0.0s\n",
      "[Parallel(n_jobs=-1)]: Done 30400 out of 30400 | elapsed:  2.3min finished\n"
     ]
    },
    {
     "data": {
      "text/plain": [
       "GridSearchCV(cv=10, estimator=KNeighborsClassifier(), n_jobs=-1,\n",
       "             param_grid={'algorithm': ['auto', 'ball_tree', 'kd_tree', 'brute'],\n",
       "                         'leaf_size': [10, 20, 30, 40, 50, 60, 70, 80, 90, 100],\n",
       "                         'n_neighbors': [1, 2, 3, 4, 5, 6, 7, 8, 9, 10, 11, 12,\n",
       "                                         13, 14, 15, 16, 17, 18, 19],\n",
       "                         'p': [1, 2], 'weights': ['uniform', 'distance']},\n",
       "             scoring='precision', verbose=2)"
      ]
     },
     "execution_count": 80,
     "metadata": {},
     "output_type": "execute_result"
    }
   ],
   "source": [
    "from sklearn.model_selection import GridSearchCV\n",
    "\n",
    "knn = KNeighborsClassifier()\n",
    "k_range = list(range(1,20))\n",
    "weights_options = ['uniform','distance']\n",
    "algorithm = ['auto', 'ball_tree', 'kd_tree', 'brute']\n",
    "leaf_size = list(range(10,101,10))\n",
    "p = [1,2]\n",
    "\n",
    "k_grid = dict(n_neighbors=k_range, weights = weights_options, algorithm = algorithm, leaf_size = leaf_size, p = p)\n",
    "grid = GridSearchCV(knn, k_grid, cv=10, scoring = 'precision', verbose=2, n_jobs = -1)\n",
    "grid.fit(xtrain, ytrain)"
   ]
  },
  {
   "cell_type": "code",
   "execution_count": 81,
   "metadata": {},
   "outputs": [
    {
     "name": "stdout",
     "output_type": "stream",
     "text": [
      "Best Score:  0.8360133982602894\n"
     ]
    }
   ],
   "source": [
    "# printing the best score\n",
    "print (\"Best Score: \",str(grid.best_score_))"
   ]
  },
  {
   "cell_type": "code",
   "execution_count": 82,
   "metadata": {},
   "outputs": [
    {
     "data": {
      "text/plain": [
       "{'algorithm': 'brute',\n",
       " 'leaf_size': 10,\n",
       " 'n_neighbors': 4,\n",
       " 'p': 2,\n",
       " 'weights': 'uniform'}"
      ]
     },
     "execution_count": 82,
     "metadata": {},
     "output_type": "execute_result"
    }
   ],
   "source": [
    "# getting the best parameters\n",
    "grid.best_params_"
   ]
  },
  {
   "cell_type": "code",
   "execution_count": 89,
   "metadata": {},
   "outputs": [
    {
     "data": {
      "text/plain": [
       "0.8518518518518519"
      ]
     },
     "execution_count": 89,
     "metadata": {},
     "output_type": "execute_result"
    }
   ],
   "source": [
    "# using new paramters for prediction\n",
    "knn = KNeighborsClassifier(n_neighbors = 9 , weights = \"uniform\", algorithm=\"brute\", leaf_size=10, p=2)\n",
    "knn.fit(xtrain, ytrain)\n",
    "preds = knn.predict(xtest)\n",
    "knn.score(xtrain,ytrain)"
   ]
  },
  {
   "cell_type": "code",
   "execution_count": 90,
   "metadata": {},
   "outputs": [],
   "source": [
    "# as we can see our acurracy has been decreased a bit but it doesnt mean that the ytest data will be not better than the predicted\n",
    "# values that were precticted before the hyperparameter tuning. Hyperparameter tuning saves our data from being over/underfitted\n",
    "# we will continue with the parameter we got above"
   ]
  },
  {
   "cell_type": "code",
   "execution_count": 91,
   "metadata": {},
   "outputs": [],
   "source": [
    "# saving the data\n",
    "data = {\"PassengerId\":passID, \"Survived\":preds}\n",
    "submission = pd.DataFrame(data)"
   ]
  },
  {
   "cell_type": "code",
   "execution_count": null,
   "metadata": {},
   "outputs": [],
   "source": []
  },
  {
   "cell_type": "code",
   "execution_count": null,
   "metadata": {},
   "outputs": [],
   "source": []
  },
  {
   "cell_type": "code",
   "execution_count": null,
   "metadata": {},
   "outputs": [],
   "source": []
  }
 ],
 "metadata": {
  "kernelspec": {
   "display_name": "Python 3",
   "language": "python",
   "name": "python3"
  },
  "language_info": {
   "codemirror_mode": {
    "name": "ipython",
    "version": 3
   },
   "file_extension": ".py",
   "mimetype": "text/x-python",
   "name": "python",
   "nbconvert_exporter": "python",
   "pygments_lexer": "ipython3",
   "version": "3.8.5"
  }
 },
 "nbformat": 4,
 "nbformat_minor": 4
}
